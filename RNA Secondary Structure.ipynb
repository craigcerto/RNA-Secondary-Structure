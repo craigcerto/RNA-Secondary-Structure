{
 "cells": [
  {
   "cell_type": "markdown",
   "metadata": {},
   "source": [
    "## RNA Secondary Structure - Dynamic Algorithm \n",
    "\n",
    "Finding the maximum legal base pair matching in an RNA strand for it's secondary structure"
   ]
  },
  {
   "cell_type": "code",
   "execution_count": 26,
   "metadata": {},
   "outputs": [
    {
     "data": {
      "text/plain": [
       "2"
      ]
     },
     "execution_count": 26,
     "metadata": {},
     "output_type": "execute_result"
    }
   ],
   "source": [
    "rna = \"ACCGGUAGU\"\n",
    "\n",
    "# Building 2D Matrix to store intermediate values\n",
    "# Allows for a maximum of one calculation for each base pair comparison\n",
    "Opt_Matrix = []\n",
    "for i in range(0, len(rna)):\n",
    "    Opt_Matrix.append([])\n",
    "    for j in range(0, len(rna)):\n",
    "        Opt_Matrix[i].append(None)\n",
    "\n",
    "# Recursive algorithm for finding max base-pair matching from base i to j\n",
    "def Opt(i, j):\n",
    "    \n",
    "    # If value already calculated, return it\n",
    "    if Opt_Matrix[i][j] != None:\n",
    "        return Opt_Matrix[i][j]\n",
    "    \n",
    "    # No two bases can be paired within four bases of each other\n",
    "    elif j-i <= 4:\n",
    "        Opt_Matrix[i][j] = 0\n",
    "        return 0\n",
    "    \n",
    "    # Recursively calculates maximum\n",
    "    else:\n",
    "        \n",
    "        # Is the maximum without the last base?\n",
    "        without_j = Opt(i, j-1)\n",
    "        Opt_Matrix[i][j-1] = without_j\n",
    "        \n",
    "        # If not, must check every possible base within legal limits\n",
    "        max_with_j = 0\n",
    "        for t in range(i, j-5):\n",
    "            \n",
    "            # If there is a base pair match...\n",
    "            if (rna[j] == \"A\" and rna[t] == \"U\") or (rna[j] == \"U\" and rna[t] == \"A\") or (rna[j] == \"C\" and rna[t] == \"G\") \\\n",
    "            or (rna[j] == \"G\" and rna[t] == \"C\"):\n",
    "                \n",
    "                # Calculate max for elements on both sides of matching\n",
    "                local_max = 0\n",
    "                if Opt_Matrix[t][j] == None:\n",
    "                    local_max = 1 + Opt(i, t-1) + Opt(t+1, j-1)\n",
    "                    Opt_Matrix[t][j] = local_max\n",
    "                else:\n",
    "                    local_max = Opt_Matrix[t][j]\n",
    "                \n",
    "                # Assign local max as max_with_j if bigger\n",
    "                if local_max > max_with_j:\n",
    "                    max_with_j = local_max\n",
    "        \n",
    "        # Determine if max with or without last base is higher and return it\n",
    "        if without_j > max_with_j:\n",
    "            Opt_Matrix[i][j] = without_j\n",
    "            return without_j\n",
    "        else:\n",
    "            Opt_Matrix[i][j] = max_with_j\n",
    "            return max_with_j\n",
    "\n",
    "# Final result\n",
    "Opt(0, len(rna) - 1)"
   ]
  },
  {
   "cell_type": "code",
   "execution_count": null,
   "metadata": {},
   "outputs": [],
   "source": []
  }
 ],
 "metadata": {
  "kernelspec": {
   "display_name": "Python 3",
   "language": "python",
   "name": "python3"
  },
  "language_info": {
   "codemirror_mode": {
    "name": "ipython",
    "version": 3
   },
   "file_extension": ".py",
   "mimetype": "text/x-python",
   "name": "python",
   "nbconvert_exporter": "python",
   "pygments_lexer": "ipython3",
   "version": "3.8.5"
  }
 },
 "nbformat": 4,
 "nbformat_minor": 4
}
